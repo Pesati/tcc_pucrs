{
 "cells": [
  {
   "cell_type": "code",
   "execution_count": 91,
   "metadata": {},
   "outputs": [],
   "source": [
    "import time\n",
    "import random\n",
    "import pandas as pd\n",
    "from selenium import webdriver\n",
    "from selenium.webdriver.common.by import By\n",
    "from selenium.webdriver.chrome.options import Options\n",
    "from selenium.webdriver.common.action_chains import ActionChains\n",
    "from selenium.webdriver.support import expected_conditions as EC\n",
    "from selenium.webdriver.support.ui import WebDriverWait\n",
    "from selenium.common.exceptions import (\n",
    "    TimeoutException,\n",
    "    NoSuchElementException,\n",
    "    StaleElementReferenceException,\n",
    "    ElementClickInterceptedException\n",
    ")\n",
    "\n",
    "url = \"https://www.reclameaqui.com.br/empresa/enel-distribuicao-ceara/\"\n",
    "\n",
    "chrome_options = Options()\n",
    "chrome_options.add_argument(\"user-agent=Mozilla/5.0 (Windows NT 10.0; Win64; x64) AppleWebKit/537.36 (KHTML, like Gecko) Chrome/91.0.4472.124 Safari/537.36\")\n",
    "\n",
    "driver = webdriver.Chrome(options=chrome_options)\n",
    "driver.get(url)"
   ]
  },
  {
   "cell_type": "code",
   "execution_count": 92,
   "metadata": {},
   "outputs": [],
   "source": [
    "#Aceitar o cookies\n",
    "driver.find_element(By.LINK_TEXT, 'Aceitar todos').click()\n",
    "\n",
    "#Acessando todas as reclamações da página\n",
    "allComplaints = driver.find_element(By.ID, 'box-complaints-read-all')\n",
    "allComplaints.click()"
   ]
  },
  {
   "cell_type": "code",
   "execution_count": 57,
   "metadata": {},
   "outputs": [],
   "source": [
    "webScrapingELement = {\n",
    "    \"location\": (\"XPATH\", \"//span[@data-testid='complaint-location']\"),\n",
    "    \"date\": (\"XPATH\", \"//span[@data-testid='complaint-creation-date']\"),\n",
    "    \"id\": (\"XPATH\", \"//span[@data-testid='complaint-id']\"),\n",
    "    \"category\": (\"CSS_SELECTOR\", \"li[data-testid='listitem-categoria'] a\"),\n",
    "    \"product\": (\"CSS_SELECTOR\", \"li[data-testid='listitem-produto'] a\"),\n",
    "    \"problem\": (\"CSS_SELECTOR\", \"li[data-testid='listitem-problema'] a\"),\n",
    "    \"complaint\": (\"CLASS_NAME\", 'sc-lzlu7c-17'),\n",
    "    \"response\": (\"CLASS_NAME\", \"sc-1a60wwz-1\")\n",
    "}\n",
    "\n",
    "# Lista para armazenar os dados\n",
    "list = {key: [] for key in webScrapingELement.keys()}"
   ]
  },
  {
   "cell_type": "code",
   "execution_count": null,
   "metadata": {},
   "outputs": [],
   "source": [
    "numberOfPages = 0\n",
    "\n",
    "while numberOfPages < 8:\n",
    "    try:\n",
    "        \n",
    "        titleElements = driver.find_elements(By.TAG_NAME, 'h4')\n",
    "        index = 0\n",
    "\n",
    "        while index < len(titleElements):\n",
    "            \n",
    "            try:\n",
    "                titleElements = driver.find_elements(By.TAG_NAME, 'h4')\n",
    "                title = titleElements[index]\n",
    "                WebDriverWait(driver, 10).until(EC.element_to_be_clickable((By.TAG_NAME, 'h4')))         # Esperar até que o título seja clicável\n",
    "                actions = ActionChains(driver)                                                           # Scroll para o elemento se estiver fora da visão                                                   \n",
    "                actions.move_to_element(title).perform()\n",
    "                time.sleep(random.uniform(2, 5))\n",
    "                title.click()\n",
    "\n",
    "                for name, (method, selector) in webScrapingELement.items():\n",
    "                    \n",
    "                    try:\n",
    "                        element_text = driver.find_element(getattr(By, method), selector).text\n",
    "                    except NoSuchElementException:\n",
    "                        element_text = \"\"\n",
    "                    list[name].append(element_text)\n",
    "\n",
    "                driver.back()\n",
    "                index += 1\n",
    "\n",
    "            except TimeoutException:\n",
    "                driver.back()\n",
    "                continue\n",
    "            \n",
    "            except ElementClickInterceptedException:\n",
    "                actions = ActionChains(driver)                                                          # Scroll para o elemento se ocorrer um ElementClickInterceptedException\n",
    "                actions.move_to_element(title).perform()\n",
    "                title.click()\n",
    "                continue\n",
    "\n",
    "            except StaleElementReferenceException:\n",
    "                titleElements = driver.find_elements(By.TAG_NAME, 'h4')                                 # Se ocorrer a exceção, atualize a lista de elementos e continue o loop\n",
    "                pass\n",
    "    \n",
    "    except TimeoutException:\n",
    "        titleElements = driver.find_elements(By.TAG_NAME, 'h4')\n",
    "        continue\n",
    "    \n",
    "    except StaleElementReferenceException:\n",
    "        pass                                                                                            # Ignora a exceção no nível mais externo do loop\n",
    "    \n",
    "    numberOfPages += 1 \n",
    "    \n",
    "    try:\n",
    "        nextPage = driver.find_element(By.CSS_SELECTOR, 'button[data-testid=\"next-page-navigation-button\"]')\n",
    "        nextPage.click()\n",
    "    except NoSuchElementException:\n",
    "        break\n",
    "    except StaleElementReferenceException:\n",
    "        pass"
   ]
  },
  {
   "cell_type": "code",
   "execution_count": 94,
   "metadata": {},
   "outputs": [],
   "source": [
    "df = pd.DataFrame(list)"
   ]
  },
  {
   "cell_type": "code",
   "execution_count": 95,
   "metadata": {},
   "outputs": [],
   "source": [
    "df.to_excel('/Users/pesati/Desktop/webscraping/dataset1.xlsx', index=False)"
   ]
  }
 ],
 "metadata": {
  "kernelspec": {
   "display_name": "Python 3",
   "language": "python",
   "name": "python3"
  },
  "language_info": {
   "codemirror_mode": {
    "name": "ipython",
    "version": 3
   },
   "file_extension": ".py",
   "mimetype": "text/x-python",
   "name": "python",
   "nbconvert_exporter": "python",
   "pygments_lexer": "ipython3",
   "version": "3.11.5"
  }
 },
 "nbformat": 4,
 "nbformat_minor": 2
}
