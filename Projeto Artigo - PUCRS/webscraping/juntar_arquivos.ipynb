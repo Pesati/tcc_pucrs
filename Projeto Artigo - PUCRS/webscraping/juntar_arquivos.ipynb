{
 "cells": [
  {
   "cell_type": "code",
   "execution_count": 1,
   "metadata": {},
   "outputs": [],
   "source": [
    "import glob\n",
    "import pandas as pd\n",
    "\n",
    "# Alterar o caminho da pasta que contém os arquivos xlsx\n",
    "xlsx_files = glob.glob(\"/Users/pesati/Desktop/webscraping/*.xlsx\")\n",
    "\n",
    "complaints = []\n",
    "\n",
    "for file in xlsx_files:\n",
    "    df_complaints = pd.read_excel(file)\n",
    "    complaints.append(df_complaints)\n",
    "    \n",
    "combined_df_complaints = pd.DataFrame()\n",
    "combined_df_complaints = pd.concat(complaints, ignore_index=True)\n",
    "\n",
    "combined_df_complaints.to_excel(\"/Users/pesati/Desktop/combined_df_complaints.xlsx\", index=False)"
   ]
  }
 ],
 "metadata": {
  "kernelspec": {
   "display_name": "base",
   "language": "python",
   "name": "python3"
  },
  "language_info": {
   "codemirror_mode": {
    "name": "ipython",
    "version": 3
   },
   "file_extension": ".py",
   "mimetype": "text/x-python",
   "name": "python",
   "nbconvert_exporter": "python",
   "pygments_lexer": "ipython3",
   "version": "3.11.5"
  }
 },
 "nbformat": 4,
 "nbformat_minor": 2
}
